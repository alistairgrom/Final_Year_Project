{
 "cells": [
  {
   "cell_type": "markdown",
   "id": "618658a6-3993-4184-af47-3f6797982d3c",
   "metadata": {},
   "source": [
    "## 964398 - Content Based Movie Recommender\n",
    " ### To run this program go to: Run -> Run All Cells\n",
    " #### This will then run at the bottom of the program"
   ]
  },
  {
   "cell_type": "code",
   "execution_count": 1,
   "id": "db3aa530",
   "metadata": {},
   "outputs": [
    {
     "name": "stdout",
     "output_type": "stream",
     "text": [
      "The history saving thread hit an unexpected error (DatabaseError('database disk image is malformed',)).History will not be written to the database.\n"
     ]
    }
   ],
   "source": [
    "#To work with dataframes and allow for simple reading of csv files \n",
    "import pandas as pd\n",
    "import numpy as np\n",
    "\n",
    "#Import TfIdf to extract important features from overview\n",
    "from sklearn.feature_extraction.text import TfidfVectorizer\n",
    "#use to calculate the similarity values between movies based on the tfidf\n",
    "from sklearn.metrics.pairwise import linear_kernel\n",
    "from ast import literal_eval\n",
    "\n",
    "#import CountVectorizer to create the count matrix\n",
    "from sklearn.feature_extraction.text import CountVectorizer\n",
    "# compute cosine similarity matrix based upon the count matrix\n",
    "from sklearn.metrics.pairwise import cosine_similarity\n",
    "import random"
   ]
  },
  {
   "cell_type": "markdown",
   "id": "00b8e107-de33-4a73-a1df-0ab2e1e0c38a",
   "metadata": {},
   "source": [
    "Data prep"
   ]
  },
  {
   "cell_type": "code",
   "execution_count": 2,
   "id": "979ff2bd",
   "metadata": {},
   "outputs": [
    {
     "name": "stdout",
     "output_type": "stream",
     "text": [
      "Dataset sample size: 9151, Top 20% of full dataset\n"
     ]
    }
   ],
   "source": [
    "metadata = pd.read_csv('movies_metadata.csv', low_memory=False)\n",
    "credits = pd.read_csv('credits.csv')\n",
    "keywords = pd.read_csv('keywords.csv')\n",
    "\n",
    "pd.set_option('display.max_columns', 10)\n",
    "percent_sample = 20\n",
    "percent_sample_tmp = 1 - (percent_sample)/100\n",
    "m = metadata['vote_count'].quantile(percent_sample_tmp)\n",
    "metadata = metadata.copy().loc[metadata['vote_count'] >= m]\n",
    "print(f\"Dataset sample size: {metadata.shape[0]}, Top {percent_sample}% of full dataset\")"
   ]
  },
  {
   "cell_type": "markdown",
   "id": "4a398eec-8794-48a9-9bb4-32d8fd5c5f06",
   "metadata": {},
   "source": [
    "#### Generate a cosine similarity matrix\n",
    "Generate a cosine similarity matrix using the features extracted form the TF-IDF Vectorizer. This is using stop words to eliminate the 'common' words in english that do not give us any relevant info about the movies."
   ]
  },
  {
   "cell_type": "code",
   "execution_count": 3,
   "id": "d1dcafdb-267a-4c5b-b3bb-4e3f0cd5fdfe",
   "metadata": {},
   "outputs": [],
   "source": [
    "# create the td-idf vectorizer\n",
    "# use stop words to remove redundant words\n",
    "tfidf = TfidfVectorizer(stop_words='english')\n",
    "\n",
    "# replace empty fields with an empty string\n",
    "metadata['overview'] = metadata['overview'].fillna('')\n",
    "\n",
    "# create the tfidf matrix and fit to the overview data\n",
    "tfidf_matrix = tfidf.fit_transform(metadata['overview'])\n",
    "\n",
    "# array mapping from feature integer indices to feature name.\n",
    "tfidf.get_feature_names()[5000:5010]\n",
    "\n",
    "# cosine similarity matrix for the tfidf\n",
    "cosine_sim_tfidf = linear_kernel(tfidf_matrix, tfidf_matrix)\n",
    "\n",
    "# map the movie titles to their respective indexes\n",
    "indices = pd.Series(metadata.index, index=metadata['title']).drop_duplicates()"
   ]
  },
  {
   "cell_type": "markdown",
   "id": "ace0c77c-ffce-4ac2-8467-5da5c140b232",
   "metadata": {},
   "source": [
    "### Get Recommendation Function\n",
    "This function allows for the user to search via the Title of the movie and recieve X amount of similar movies."
   ]
  },
  {
   "cell_type": "code",
   "execution_count": 4,
   "id": "cdfabd33-e5ac-4c39-a1c6-842ddb7accdb",
   "metadata": {},
   "outputs": [],
   "source": [
    "def get_recommendations(title, cosine_sim=cosine_sim_tfidf):\n",
    "    # find the index for the film searched by title\n",
    "    idx = indices[title]\n",
    "\n",
    "    # get similarity values of movies with current movie\n",
    "    sim_values = list(enumerate(cosine_sim[idx]))\n",
    "\n",
    "    # sort by highest sim value\n",
    "    sim_values = sorted(sim_values, key=lambda x: x[1], reverse=True)\n",
    "\n",
    "    # get top 10 most similar\n",
    "    # 1 is going to be the movie its self\n",
    "    sim_values = sim_values[1:11]\n",
    "\n",
    "    # get the movie indices\n",
    "    movie_indices = [i[0] for i in sim_values]\n",
    "\n",
    "    # return the titles of the 10 most sim movies\n",
    "    return metadata['title'].iloc[movie_indices]\n",
    "\n",
    "def get_recommendations_by_index(idx, cosine_sim=cosine_sim_tfidf):   \n",
    "    movies = []\n",
    "\n",
    "    # get similarity values of movies with current movie\n",
    "    sim_values = list(enumerate(cosine_sim[idx]))\n",
    "\n",
    "    # sort by highest sim value\n",
    "    sim_values = sorted(sim_values, key=lambda x: x[1], reverse=True)\n",
    "\n",
    "    # get top 10 most similar\n",
    "    # 1 is going to be the movie its self\n",
    "    sim_values = sim_values[1:11]\n",
    "\n",
    "    # get the movie indices\n",
    "    movie_indices = [i[0] for i in sim_values]\n",
    "\n",
    "    # return the titles of the 10 most sim movies\n",
    "    return metadata[['title', 'genres']].iloc[movie_indices]\n",
    "\n",
    "\n",
    "def get_recommendations_top_5(title, cosine_sim=cosine_sim_tfidf):\n",
    "    # find the index for the film searched by title\n",
    "    idx = indices[title]\n",
    "\n",
    "    \n",
    "    # get similarity values of movies with current movie\n",
    "    sim_values = list(enumerate(cosine_sim[idx]))\n",
    "\n",
    "    # sort by highest sim value\n",
    "    sim_values = sorted(sim_values, key=lambda x: x[1], reverse=True)\n",
    "\n",
    "    # get top 5 most similar\n",
    "    # 1 is going to be the movie its self\n",
    "    sim_values = sim_values[1:6]\n",
    "\n",
    "    # get the movie indices\n",
    "    movie_indices = [i[0] for i in sim_values]\n",
    "    \n",
    "    movies = []\n",
    "    \n",
    "    searched_movie = idx\n",
    "    \n",
    "    picked_movies.append(searched_movie)\n",
    "    \n",
    "    print()\n",
    "    print(\"Your List\")\n",
    "    for i in picked_movies:\n",
    "        print(metadata[(metadata['index'] == i)]['title'].to_string(index=False))\n",
    "    print(f\"\\nMovies similar to {title}\")\n",
    "    \n",
    "    # return the titles of the 5 most sim movies\n",
    "    return (metadata['title'].iloc[movie_indices].to_string(index=False))"
   ]
  },
  {
   "cell_type": "code",
   "execution_count": 5,
   "id": "69eb4f7e-c50c-4299-a7b3-f14e3775bfe1",
   "metadata": {},
   "outputs": [],
   "source": [
    "# convert ids to ints, to merge datasets\n",
    "keywords['id'] = keywords['id'].astype('int')\n",
    "credits['id'] = credits['id'].astype('int')\n",
    "metadata['id'] = metadata['id'].astype('int')\n",
    "\n",
    "# use merge to add the credits and keywords datasets into the main dataframe\n",
    "metadata = metadata.merge(credits, on='id')\n",
    "metadata = metadata.merge(keywords, on='id')\n",
    "\n",
    "features = ['cast', 'crew', 'keywords', 'genres']\n",
    "for feature in features:\n",
    "    metadata[feature] = metadata[feature].apply(literal_eval)"
   ]
  },
  {
   "cell_type": "code",
   "execution_count": 6,
   "id": "20e164bf-6a8b-49a0-bbe5-4d0b2a9c3f20",
   "metadata": {},
   "outputs": [],
   "source": [
    "def get_director(data):\n",
    "    for i in data:\n",
    "        if i['job'] == 'Director':\n",
    "            return i['name']\n",
    "    return np.nan"
   ]
  },
  {
   "cell_type": "code",
   "execution_count": 7,
   "id": "cc3f64a4-3caf-42c4-bec0-7331bc70c06e",
   "metadata": {},
   "outputs": [],
   "source": [
    "def get_list(data):\n",
    "    if isinstance(data, list):\n",
    "        names = [i['name'] for i in data]\n",
    "        #more than 3 elements exist, return only first three. else then get them all\n",
    "        if len(names) > 3:\n",
    "            names = names[:3]\n",
    "        return names\n",
    "\n",
    "    return []"
   ]
  },
  {
   "cell_type": "code",
   "execution_count": 8,
   "id": "6454ab74-eb2f-4c9b-8c15-f8488ccf8d6a",
   "metadata": {},
   "outputs": [],
   "source": [
    "# apply data cleaning functions\n",
    "metadata['director'] = metadata['crew'].apply(get_director)\n",
    "\n",
    "features = ['cast', 'keywords', 'genres']\n",
    "for feature in features:\n",
    "    metadata[feature] = metadata[feature].apply(get_list)"
   ]
  },
  {
   "cell_type": "code",
   "execution_count": 9,
   "id": "af0917e3-2125-42cd-bdbe-034f51b67e8e",
   "metadata": {},
   "outputs": [],
   "source": [
    "def clean_data(data):\n",
    "    if isinstance(data, list):\n",
    "        return [str.lower(i.replace(\" \", \"\")) for i in data]\n",
    "    else:\n",
    "        #Check if director exists. If not, return empty string\n",
    "        if isinstance(data, str):\n",
    "            return str.lower(data.replace(\" \", \"\"))\n",
    "        else:\n",
    "            return ''\n",
    "        \n",
    "# clean the features data\n",
    "features = ['cast', 'keywords', 'director', 'genres']\n",
    "\n",
    "for feature in features:\n",
    "    metadata[feature] = metadata[feature].apply(clean_data)"
   ]
  },
  {
   "cell_type": "code",
   "execution_count": 10,
   "id": "f7cdc6ba-6373-45eb-b2c1-07d603370871",
   "metadata": {},
   "outputs": [],
   "source": [
    "pd.set_option('display.max_colwidth', None)\n",
    "\n",
    "def create_bag_of_words(data):\n",
    "    return ' '.join(data['keywords']) + ' ' + ' '.join(data['cast']) + ' ' + data['director'] + ' ' + ' '.join(data['genres'])\n",
    "\n",
    "metadata['bag_of_words'] = metadata.apply(create_bag_of_words, axis=1)"
   ]
  },
  {
   "cell_type": "markdown",
   "id": "dff359b1-83c2-4dc0-86a5-3d5d3780da35",
   "metadata": {},
   "source": [
    "### Second iterations feature extraction and cosine matrix function"
   ]
  },
  {
   "cell_type": "code",
   "execution_count": 11,
   "id": "c57e8c47-70d4-4833-937e-f8ecaa20935c",
   "metadata": {},
   "outputs": [],
   "source": [
    "# using CountVectorizer to get the counts of each keyword\n",
    "count = CountVectorizer(stop_words='english')\n",
    "count_matrix = count.fit_transform(metadata['bag_of_words'])\n",
    "\n",
    "# generate similarity matrix\n",
    "cosine_sim_count_matrix = cosine_similarity(count_matrix, count_matrix)\n",
    "\n",
    "# reset indexes of main DataFrame and map the indexes like before\n",
    "metadata = metadata.reset_index()\n",
    "indices = pd.Series(metadata.index, index=metadata['title'])"
   ]
  },
  {
   "cell_type": "markdown",
   "id": "c04eb151-e324-4470-a1be-b274c6543e4a",
   "metadata": {},
   "source": [
    "#### User input handler"
   ]
  },
  {
   "cell_type": "code",
   "execution_count": 12,
   "id": "0c48e766-ae40-449f-95f6-49f05a712304",
   "metadata": {},
   "outputs": [],
   "source": [
    "def user_input():\n",
    "    #cont is true for the program to keep looping \n",
    "    cont = True\n",
    "    while cont:\n",
    "        print(f\"Selection\")\n",
    "        user_input = input(\"Enter a movie (type 'done' when finished adding movies): \")\n",
    "        #when the user is done they can end the loop and recieve output for all their preferences\n",
    "        if (user_input.lower() == 'done'):\n",
    "            cont = False\n",
    "        else:\n",
    "            #gives the top 5 most similar and adds the searched for movie\n",
    "            print(f\"{get_recommendations_top_5(user_input, cosine_sim_count_matrix)}\\n\")"
   ]
  },
  {
   "cell_type": "code",
   "execution_count": 13,
   "id": "286eaf7a-fbd1-4cf0-8e3a-a724f28d7c01",
   "metadata": {},
   "outputs": [],
   "source": [
    "def getrec(index):\n",
    "    print(f\"{get_recommendations_by_index(index, cosine_sim_count_matrix).to_string(index=False)}\")"
   ]
  },
  {
   "cell_type": "code",
   "execution_count": 14,
   "id": "d47b8b59-832c-4d67-852b-dd6353c41584",
   "metadata": {},
   "outputs": [],
   "source": [
    "def main():\n",
    "    while True:\n",
    "        try:\n",
    "            user_input()\n",
    "            print()\n",
    "        except KeyError:\n",
    "            print('Oops this movie is not in the database.\\n')\n",
    "            continue\n",
    "        except ValueError:\n",
    "            print('There has been an error with getting this movie.\\n')\n",
    "            continue\n",
    "        break\n"
   ]
  },
  {
   "cell_type": "markdown",
   "id": "d4b6acd3-2c41-401f-9428-911bb1fd5176",
   "metadata": {},
   "source": [
    "### Movies picked by the user.\n",
    "\n",
    "This data is used to form the profile of the user, decisions made i.e. 'clicking' on the film feed back to the algorithm, optimizing it with every 'click.'\n",
    "This block will cause the entire program to run and produce output"
   ]
  },
  {
   "cell_type": "code",
   "execution_count": 19,
   "id": "bd3686bf-e76b-4b9f-9d11-5180b07364d3",
   "metadata": {},
   "outputs": [
    {
     "name": "stdout",
     "output_type": "stream",
     "text": [
      "Selection\n"
     ]
    },
    {
     "name": "stdin",
     "output_type": "stream",
     "text": [
      "Enter a movie (type 'done' when finished adding movies):  Your Name.\n"
     ]
    },
    {
     "name": "stdout",
     "output_type": "stream",
     "text": [
      "\n",
      "Your List\n",
      " Your Name.\n",
      "\n",
      "Movies similar to Your Name.\n",
      " 5 Centimeters per Second\n",
      "      The Garden of Words\n",
      "                    Ashby\n",
      "             Before We Go\n",
      "   Some Kind of Wonderful\n",
      "\n",
      "Selection\n"
     ]
    },
    {
     "name": "stdin",
     "output_type": "stream",
     "text": [
      "Enter a movie (type 'done' when finished adding movies):  Spirited Away\n"
     ]
    },
    {
     "name": "stdout",
     "output_type": "stream",
     "text": [
      "\n",
      "Your List\n",
      " Your Name.\n",
      " Spirited Away\n",
      "\n",
      "Movies similar to Spirited Away\n",
      "        Castle in the Sky\n",
      "     Howl's Moving Castle\n",
      "      Tales from Earthsea\n",
      " Bedknobs and Broomsticks\n",
      "        Princess Mononoke\n",
      "\n",
      "Selection\n"
     ]
    },
    {
     "name": "stdin",
     "output_type": "stream",
     "text": [
      "Enter a movie (type 'done' when finished adding movies):  done\n"
     ]
    },
    {
     "name": "stdout",
     "output_type": "stream",
     "text": [
      "\n",
      "-------------------------------------------------------------\n",
      "\n",
      "Your List, generating recommendations from the following...\n",
      "    Your Name.\n",
      "    Spirited Away\n",
      "\n",
      "-------------------------------------------------------------\n",
      "\n",
      "Recommendations for You based on User Profile\n",
      "                                 title                           genres\n",
      "                            Your Name.      [romance, animation, drama]\n",
      "                         Spirited Away  [fantasy, adventure, animation]\n",
      "        Children Who Chase Lost Voices    [animation, adventure, drama]\n",
      "                   The Garden of Words      [animation, drama, romance]\n",
      "                     Castle in the Sky  [adventure, fantasy, animation]\n",
      "                  Return to Never Land  [adventure, fantasy, animation]\n",
      "               Kiki's Delivery Service    [animation, adventure, drama]\n",
      "                  Howl's Moving Castle  [fantasy, animation, adventure]\n",
      "                    Hotarubi no Mori e    [romance, animation, fantasy]\n",
      "                       Sleeping Beauty    [fantasy, animation, romance]\n",
      "              5 Centimeters per Second      [animation, drama, romance]\n",
      " Pocahontas II: Journey to a New World  [adventure, animation, romance]\n",
      "       Jack and the Cuckoo-Clock Heart  [animation, romance, adventure]\n",
      "                        Watership Down    [adventure, animation, drama]\n",
      "                   Tales from Earthsea  [adventure, fantasy, animation]\n",
      "\n",
      "-------------------------------------------------------------\n",
      "\n",
      "Because you liked Your Name.\n",
      "                          title                         genres\n",
      "       5 Centimeters per Second    [animation, drama, romance]\n",
      "            The Garden of Words    [animation, drama, romance]\n",
      "                          Ashby       [drama, romance, comedy]\n",
      "                   Before We Go       [drama, romance, comedy]\n",
      "         Some Kind of Wonderful               [drama, romance]\n",
      "             Millennium Actress    [animation, drama, romance]\n",
      "                 Only Yesterday    [animation, drama, romance]\n",
      " Children Who Chase Lost Voices  [animation, adventure, drama]\n",
      "             Hotarubi no Mori e  [romance, animation, fantasy]\n",
      "                          Feast     [animation, comedy, drama]\n",
      "\n",
      "-------------------------------------------------------------\n",
      "\n",
      "Because you liked Spirited Away\n",
      "                                    title                           genres\n",
      "                        Castle in the Sky  [adventure, fantasy, animation]\n",
      "                     Howl's Moving Castle  [fantasy, animation, adventure]\n",
      "                      Tales from Earthsea  [adventure, fantasy, animation]\n",
      "                 Bedknobs and Broomsticks  [adventure, fantasy, animation]\n",
      "                        Princess Mononoke  [adventure, fantasy, animation]\n",
      " Harry Potter and the Philosopher's Stone     [adventure, fantasy, family]\n",
      "                     Return to Never Land  [adventure, fantasy, animation]\n",
      "  Harry Potter and the Chamber of Secrets     [adventure, fantasy, family]\n",
      "       Nausicaä of the Valley of the Wind  [adventure, animation, fantasy]\n",
      "                  Kiki's Delivery Service    [animation, adventure, drama]\n",
      "\n",
      "-------------------------------------------------------------\n"
     ]
    }
   ],
   "source": [
    "#resetting the users selections before the program is run again\n",
    "picked_movies = []\n",
    "\n",
    "main()\n",
    "\n",
    "joint_bag_of_words = []\n",
    "\n",
    "print(\"-------------------------------------------------------------\")\n",
    "print()\n",
    "print(f\"Your List, generating recommendations from the following...\")\n",
    "for i in picked_movies:\n",
    "    joint_bag_of_words.append(metadata[metadata['index'] == i].bag_of_words.item())\n",
    "    print(f\"    {metadata[metadata['index'] == i].title.item()}\")\n",
    "    \n",
    "joint_bag_of_words_str = \" \".join(joint_bag_of_words)\n",
    "\n",
    "this_index = metadata.shape[0]\n",
    "\n",
    "new_row = {'index': this_index, 'title':'USER', 'bag_of_words':joint_bag_of_words_str}\n",
    "metadata_2 = metadata.append(new_row, ignore_index=True)\n",
    "\n",
    "def get_movie_by_index(index):\n",
    "    movie = metadata[(metadata['index'] == index)]\n",
    "    return movie\n",
    "\n",
    "count_2 = CountVectorizer(stop_words='english')\n",
    "count_matrix_2 = count.fit_transform(metadata_2['bag_of_words'])\n",
    "\n",
    "cosine_sim_3 = cosine_similarity(count_matrix_2, count_matrix_2)\n",
    "\n",
    "\n",
    "# reset indexes of main DataFrame and map the indexes like before\n",
    "indices_2 = pd.Series(metadata_2.index, index=metadata_2['title']).drop_duplicates()\n",
    "\n",
    "def get_recommendations_for_user(cosine_sim=cosine_sim_3):\n",
    "    # find the index for the film searched by title\n",
    "    idx = indices_2['USER']\n",
    "\n",
    "    # get similarity values of movies with current movie\n",
    "    sim_values = list(enumerate(cosine_sim[idx]))\n",
    "\n",
    "     # sort by highest sim value\n",
    "    sim_values = sorted(sim_values, key=lambda x: x[1], reverse=True)\n",
    "\n",
    "    # get top 15 most similar\n",
    "    # 1 is going to be the movie its self\n",
    "    sim_values = sim_values[1:16]\n",
    "    \n",
    "    # get the movie indices\n",
    "    movie_indices = [i[0] for i in sim_values]\n",
    "    \n",
    "    # return the titles of the 5 most sim movies\n",
    "    return (metadata_2[['title', 'genres']].iloc[movie_indices]).to_string(index=False)\n",
    "\n",
    "if (len(picked_movies) > 1):\n",
    "    print()\n",
    "    print(\"-------------------------------------------------------------\\n\")\n",
    "    print(\"Recommendations for You based on User Profile\")\n",
    "    print(get_recommendations_for_user(cosine_sim_3))\n",
    "\n",
    "#Because you liked, the individual movies most similar\n",
    "for i in range(len(picked_movies)):\n",
    "    print()\n",
    "    print(\"-------------------------------------------------------------\\n\")\n",
    "    print(f\"Because you liked{get_movie_by_index(picked_movies[i])['title'].to_string(index=False)}\")\n",
    "    getrec(picked_movies[i])\n",
    "\n",
    "print(\"\\n-------------------------------------------------------------\")    "
   ]
  }
 ],
 "metadata": {
  "kernelspec": {
   "display_name": "Python 3",
   "language": "python",
   "name": "python3"
  },
  "language_info": {
   "codemirror_mode": {
    "name": "ipython",
    "version": 3
   },
   "file_extension": ".py",
   "mimetype": "text/x-python",
   "name": "python",
   "nbconvert_exporter": "python",
   "pygments_lexer": "ipython3",
   "version": "3.6.9"
  }
 },
 "nbformat": 4,
 "nbformat_minor": 5
}
